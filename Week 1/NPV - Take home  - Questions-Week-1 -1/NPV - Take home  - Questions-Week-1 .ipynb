{
 "cells": [
  {
   "cell_type": "markdown",
   "metadata": {
    "id": "3KtWhf9rm-zf"
   },
   "source": [
    "<table align=\"center\" width=100%>\n",
    "    <tr>\n",
    "        <td width=\"15%\">\n",
    "            <img src=\"homework.png\">\n",
    "        </td>\n",
    "        <td>\n",
    "            <div align=\"center\">\n",
    "                <font color=\"#21618C\" size=8px>\n",
    "                    <b> Take-Home <br>(Week 1)\n",
    "                    </b>\n",
    "                </font>\n",
    "            </div>\n",
    "        </td>\n",
    "    </tr>\n",
    "</table>"
   ]
  },
  {
   "cell_type": "markdown",
   "metadata": {
    "id": "HKFoNnEqm-zj"
   },
   "source": [
    "### Let's begin with some hands-on practice exercises"
   ]
  },
  {
   "cell_type": "markdown",
   "metadata": {
    "collapsed": true,
    "id": "fgBlQ6LMm-zj"
   },
   "source": [
    "<table align=\"left\">\n",
    "    <tr>\n",
    "        <td width=\"6%\">\n",
    "            <img src=\"question_icon.png\">\n",
    "        </td>\n",
    "        <td>\n",
    "            <div align=\"left\", style=\"font-size:120%\">\n",
    "                <font color=\"#21618C\">\n",
    "                    <b>1. Create an array of integers from 20 to 2 with a step of -2\n",
    "</b>\n",
    "                </font>\n",
    "            </div>\n",
    "        </td>\n",
    "    </tr>\n",
    "</table>"
   ]
  },
  {
   "cell_type": "code",
   "execution_count": 1,
   "metadata": {
    "id": "54e3dq1_m-zk"
   },
   "outputs": [
    {
     "data": {
      "text/plain": [
       "array([20, 18, 16, 14, 12, 10,  8,  6,  4])"
      ]
     },
     "execution_count": 1,
     "metadata": {},
     "output_type": "execute_result"
    }
   ],
   "source": [
    "import numpy as np\n",
    "\n",
    "np.arange(20,2,-2)"
   ]
  },
  {
   "cell_type": "markdown",
   "metadata": {
    "collapsed": true,
    "id": "rfd3FYPUm-zl"
   },
   "source": [
    "<table align=\"left\">\n",
    "    <tr>\n",
    "        <td width=\"6%\">\n",
    "            <img src=\"question_icon.png\">\n",
    "        </td>\n",
    "        <td>\n",
    "            <div align=\"left\", style=\"font-size:120%\">\n",
    "                <font color=\"#21618C\">\n",
    "                    <b>2. Find the minimum value along each of the rows\n",
    "</b>\n",
    "                </font>\n",
    "            </div>\n",
    "        </td>\n",
    "    </tr>\n",
    "</table>"
   ]
  },
  {
   "cell_type": "markdown",
   "metadata": {
    "id": "7UCVa9qXm-zl"
   },
   "source": [
    "#### Create a 2D Numpy array from list of lists\n",
    "\n",
    "    num_array = np.array([[110, 102, 183],\n",
    "                     [140, 175, 106],\n",
    "                     [170, 195, 117],\n",
    "                     [192, 140, 195]])"
   ]
  },
  {
   "cell_type": "code",
   "execution_count": 2,
   "metadata": {
    "id": "B96soBGHm-zl"
   },
   "outputs": [
    {
     "data": {
      "text/plain": [
       "array([102, 106, 117, 140])"
      ]
     },
     "execution_count": 2,
     "metadata": {},
     "output_type": "execute_result"
    }
   ],
   "source": [
    "num_array = np.array([[110, 102, 183],\n",
    "                 [140, 175, 106],\n",
    "                 [170, 195, 117],\n",
    "                 [192, 140, 195]])\n",
    "\n",
    "np.min(num_array,axis=1)"
   ]
  },
  {
   "cell_type": "markdown",
   "metadata": {
    "collapsed": true,
    "id": "P_ZXr92km-zm"
   },
   "source": [
    "<table align=\"left\">\n",
    "    <tr>\n",
    "        <td width=\"6%\">\n",
    "            <img src=\"question_icon.png\">\n",
    "        </td>\n",
    "        <td>\n",
    "            <div align=\"left\", style=\"font-size:120%\">\n",
    "                <font color=\"#21618C\">\n",
    "                    <b>3. Replace all odd numbers in the array with -2\n",
    "</b>\n",
    "                </font>\n",
    "            </div>\n",
    "        </td>\n",
    "    </tr>\n",
    "</table>"
   ]
  },
  {
   "cell_type": "markdown",
   "metadata": {
    "id": "Q8cI-U5am-zm"
   },
   "source": [
    "**Use the array given below**<br>\n",
    "    \n",
    "       num_array = np.array([0, 31, 42, 43, 34, 45, 26, 27, 38, 94, 65, 78, 76])"
   ]
  },
  {
   "cell_type": "code",
   "execution_count": 5,
   "metadata": {
    "id": "J0nGQlbXm-zn"
   },
   "outputs": [
    {
     "data": {
      "text/plain": [
       "array([ 0, -2, 42, -2, 34, -2, 26, -2, 38, 94, -2, 78, 76])"
      ]
     },
     "execution_count": 5,
     "metadata": {},
     "output_type": "execute_result"
    }
   ],
   "source": [
    "num_array = np.array([0, 31, 42, 43, 34, 45, 26, 27, 38, 94, 65, 78, 76])\n",
    "\n",
    "num_array[num_array%2==1] = -2\n",
    "\n",
    "num_array"
   ]
  },
  {
   "cell_type": "markdown",
   "metadata": {
    "collapsed": true,
    "id": "lcopGXvNm-zn"
   },
   "source": [
    "<table align=\"left\">\n",
    "    <tr>\n",
    "        <td width=\"6%\">\n",
    "            <img src=\"question_icon.png\">\n",
    "        </td>\n",
    "        <td>\n",
    "            <div align=\"left\", style=\"font-size:120%\">\n",
    "                <font color=\"#21618C\">\n",
    "                    <b>4. Replace all odd numbers in the array 'num_array' with -2 without changing the original array\n",
    "</b>\n",
    "                </font>\n",
    "            </div>\n",
    "        </td>\n",
    "    </tr>\n",
    "</table>"
   ]
  },
  {
   "cell_type": "markdown",
   "metadata": {
    "id": "rG6zyopOm-zn"
   },
   "source": [
    "**Use the array given below**<br>\n",
    "\n",
    "    num_array = np.array([0, 31, 42, 43, 34, 45, 26, 27, 38, 94, 65, 78, 76])"
   ]
  },
  {
   "cell_type": "code",
   "execution_count": 6,
   "metadata": {
    "id": "EyKa8PEum-zo"
   },
   "outputs": [
    {
     "name": "stdout",
     "output_type": "stream",
     "text": [
      "Original Array :  [ 0 31 42 43 34 45 26 27 38 94 65 78 76]\n",
      "Computed Array :  [ 0 -2 42 -2 34 -2 26 -2 38 94 -2 78 76]\n"
     ]
    }
   ],
   "source": [
    "num_array = np.array([0, 31, 42, 43, 34, 45, 26, 27, 38, 94, 65, 78, 76])\n",
    "\n",
    "dup_array = np.copy(num_array)\n",
    "\n",
    "dup_array[dup_array%2==1] = -2\n",
    "\n",
    "print(\"Original Array : \",num_array)\n",
    "\n",
    "print(\"Computed Array : \",dup_array)"
   ]
  },
  {
   "cell_type": "markdown",
   "metadata": {
    "collapsed": true,
    "id": "m5tmxpAAm-zo"
   },
   "source": [
    "<table align=\"left\">\n",
    "    <tr>\n",
    "        <td width=\"6%\">\n",
    "            <img src=\"question_icon.png\">\n",
    "        </td>\n",
    "        <td>\n",
    "            <div align=\"left\", style=\"font-size:120%\">\n",
    "                <font color=\"#21618C\">\n",
    "                    <b>5. Stack two arrays vertically\n",
    "</b>\n",
    "                </font>\n",
    "            </div>\n",
    "        </td>\n",
    "    </tr>\n",
    "</table>"
   ]
  },
  {
   "cell_type": "markdown",
   "metadata": {
    "id": "8rFemjJom-zo"
   },
   "source": [
    "**Use the array given below:**<br>\n",
    "\n",
    "    quantity1 = np.arange(10).reshape(2,-1)\n",
    "    quantity2 = np.repeat(1, 10).reshape(2,-1)"
   ]
  },
  {
   "cell_type": "code",
   "execution_count": 14,
   "metadata": {
    "id": "zWGjODcxm-zo"
   },
   "outputs": [
    {
     "name": "stdout",
     "output_type": "stream",
     "text": [
      "[[0 1 2 3 4]\n",
      " [5 6 7 8 9]\n",
      " [1 1 1 1 1]\n",
      " [1 1 1 1 1]]\n"
     ]
    }
   ],
   "source": [
    "quantity1 = np.arange(10).reshape(2,-1)\n",
    "quantity2 = np.repeat(1, 10).reshape(2,-1)\n",
    "\n",
    "\n",
    "\n",
    "print(np.vstack((quantity1,quantity2)))"
   ]
  },
  {
   "cell_type": "markdown",
   "metadata": {
    "collapsed": true,
    "id": "cKfc2ynfm-zp"
   },
   "source": [
    "<table align=\"left\">\n",
    "    <tr>\n",
    "        <td width=\"6%\">\n",
    "            <img src=\"question_icon.png\">\n",
    "        </td>\n",
    "        <td>\n",
    "            <div align=\"left\", style=\"font-size:120%\">\n",
    "                <font color=\"#21618C\">\n",
    "                    <b>6. Get common elements from the two arrays\n",
    "</b>\n",
    "                </font>\n",
    "            </div>\n",
    "        </td>\n",
    "    </tr>\n",
    "</table>"
   ]
  },
  {
   "cell_type": "markdown",
   "metadata": {
    "id": "AAqtTZ6Cm-zp"
   },
   "source": [
    "**Use the array given below:**<br>\n",
    "\n",
    "    age_a = np.array([11,12,13,22,23,44,43,24,45,36])\n",
    "    age_b = np.array([17,22,13,22,47,34,39,44,29,28])"
   ]
  },
  {
   "cell_type": "code",
   "execution_count": 4,
   "metadata": {
    "id": "_gqFnZtIm-zp"
   },
   "outputs": [
    {
     "data": {
      "text/plain": [
       "array([13, 22, 44])"
      ]
     },
     "execution_count": 4,
     "metadata": {},
     "output_type": "execute_result"
    }
   ],
   "source": [
    "age_a = np.array([11,12,13,22,23,44,43,24,45,36])\n",
    "age_b = np.array([17,22,13,22,47,34,39,44,29,28])\n",
    "\n",
    "np.intersect1d(age_a,age_b)"
   ]
  },
  {
   "cell_type": "markdown",
   "metadata": {
    "collapsed": true,
    "id": "rfpH3HD5m-zp"
   },
   "source": [
    "<table align=\"left\">\n",
    "    <tr>\n",
    "        <td width=\"6%\">\n",
    "            <img src=\"question_icon.png\">\n",
    "        </td>\n",
    "        <td>\n",
    "            <div align=\"left\", style=\"font-size:120%\">\n",
    "                <font color=\"#21618C\">\n",
    "                    <b>7. Remove all the elements from num_array1 that are present in num_array2\n",
    "</b>\n",
    "                </font>\n",
    "            </div>\n",
    "        </td>\n",
    "    </tr>\n",
    "</table>"
   ]
  },
  {
   "cell_type": "markdown",
   "metadata": {
    "id": "nKO21HuEm-zq"
   },
   "source": [
    "**Use the array given below:**<br>\n",
    "\n",
    "    num_array1 = np.array([1,2,3,4,5])\n",
    "    num_array2 = np.array([5,6,7,8,9])"
   ]
  },
  {
   "cell_type": "code",
   "execution_count": 36,
   "metadata": {
    "id": "W2ah0CHLm-zq"
   },
   "outputs": [
    {
     "name": "stdout",
     "output_type": "stream",
     "text": [
      "{1, 2, 3, 4}\n"
     ]
    },
    {
     "data": {
      "text/plain": [
       "array({1, 2, 3, 4}, dtype=object)"
      ]
     },
     "execution_count": 36,
     "metadata": {},
     "output_type": "execute_result"
    }
   ],
   "source": [
    "num_array1 = np.array([1,2,3,4,5])\n",
    "num_array2 = np.array([5,6,7,8,9])\n",
    "\n",
    "set_1 = set(num_array1)\n",
    "set_2 = set(num_array2)\n",
    "set_1.difference_update(set_2)\n",
    "print(set_1)\n",
    "\n",
    "\n",
    "num_array1 = np.array(set_1)\n",
    "num_array1"
   ]
  },
  {
   "cell_type": "markdown",
   "metadata": {
    "collapsed": true,
    "id": "kHimcqqHm-zq"
   },
   "source": [
    "<table align=\"left\">\n",
    "    <tr>\n",
    "        <td width=\"6%\">\n",
    "            <img src=\"question_icon.png\">\n",
    "        </td>\n",
    "        <td>\n",
    "            <div align=\"left\", style=\"font-size:120%\">\n",
    "                <font color=\"#21618C\">\n",
    "                    <b>8. Get the positions where elements of two arrays match\n",
    "</b>\n",
    "                </font>\n",
    "            </div>\n",
    "        </td>\n",
    "    </tr>\n",
    "</table>"
   ]
  },
  {
   "cell_type": "markdown",
   "metadata": {
    "id": "3jAnDi9vm-zq"
   },
   "source": [
    "**Use the array given below:**<br>\n",
    "\n",
    "    num_array1 = np.array([1,2,3,2,3,4,3,4,5,6])\n",
    "    num_array2 = np.array([7,2,10,2,7,4,9,4,9,8])"
   ]
  },
  {
   "cell_type": "code",
   "execution_count": 53,
   "metadata": {
    "id": "wrdr7RsCm-zr"
   },
   "outputs": [
    {
     "name": "stdout",
     "output_type": "stream",
     "text": [
      "1 3 5 7 "
     ]
    }
   ],
   "source": [
    "num_array1 = np.array([1,2,3,2,3,4,3,4,5,6])\n",
    "num_array2 = np.array([7,2,10,2,7,4,9,4,9,8])\n",
    "\n",
    "for i in range(0,len(num_array1)):\n",
    "    if num_array1[i] == num_array2[i]:\n",
    "        print(i,end = \" \")"
   ]
  },
  {
   "cell_type": "markdown",
   "metadata": {
    "collapsed": true,
    "id": "t5Syidw3m-zr"
   },
   "source": [
    "<table align=\"left\">\n",
    "    <tr>\n",
    "        <td width=\"6%\">\n",
    "            <img src=\"question_icon.png\">\n",
    "        </td>\n",
    "        <td>\n",
    "            <div align=\"left\", style=\"font-size:120%\">\n",
    "                <font color=\"#21618C\">\n",
    "                    <b>9. Reverse each of the rows of the 2D array\n",
    "</b>\n",
    "                </font>\n",
    "            </div>\n",
    "        </td>\n",
    "    </tr>\n",
    "</table>"
   ]
  },
  {
   "cell_type": "markdown",
   "metadata": {
    "id": "ghrNz3iem-zr"
   },
   "source": [
    "**Use the array given below:**<br>\n",
    "\n",
    "    num_array1 = np.arange(16).reshape(4,4)"
   ]
  },
  {
   "cell_type": "code",
   "execution_count": 31,
   "metadata": {
    "id": "GW1egiCZm-zs"
   },
   "outputs": [
    {
     "name": "stdout",
     "output_type": "stream",
     "text": [
      "Original Array  :  [[ 0  1  2  3]\n",
      " [ 4  5  6  7]\n",
      " [ 8  9 10 11]\n",
      " [12 13 14 15]]\n"
     ]
    },
    {
     "data": {
      "text/plain": [
       "array([[12, 13, 14, 15],\n",
       "       [ 8,  9, 10, 11],\n",
       "       [ 4,  5,  6,  7],\n",
       "       [ 0,  1,  2,  3]])"
      ]
     },
     "execution_count": 31,
     "metadata": {},
     "output_type": "execute_result"
    }
   ],
   "source": [
    "num_array1 = np.arange(16).reshape(4,4)\n",
    "\n",
    "print(\"Original Array  : \",num_array1)\n",
    "\n",
    "num_array1[::-1,]"
   ]
  },
  {
   "cell_type": "markdown",
   "metadata": {
    "collapsed": true,
    "id": "BTTk8M8am-zs"
   },
   "source": [
    "<table align=\"left\">\n",
    "    <tr>\n",
    "        <td width=\"6%\">\n",
    "            <img src=\"question_icon.png\">\n",
    "        </td>\n",
    "        <td>\n",
    "            <div align=\"left\", style=\"font-size:120%\">\n",
    "                <font color=\"#21618C\">\n",
    "                    <b>10. Swap row 1 and row 2 in the given array\n",
    "</b>\n",
    "                </font>\n",
    "            </div>\n",
    "        </td>\n",
    "    </tr>\n",
    "</table>"
   ]
  },
  {
   "cell_type": "markdown",
   "metadata": {
    "id": "sTePrfkrm-zs"
   },
   "source": [
    "**Use the array given below:**<br>\n",
    "   \n",
    "       num_array1 = np.arange(9).reshape(3,3)"
   ]
  },
  {
   "cell_type": "code",
   "execution_count": 26,
   "metadata": {
    "id": "oGUG_oVSm-zs"
   },
   "outputs": [
    {
     "name": "stdout",
     "output_type": "stream",
     "text": [
      "Original Array :\n",
      " [[0 1 2]\n",
      " [3 4 5]\n",
      " [6 7 8]]\n",
      " \n",
      "Computed array : \n",
      " [[3 4 5]\n",
      " [0 1 2]\n",
      " [6 7 8]]\n"
     ]
    }
   ],
   "source": [
    "num_array1 = np.arange(9).reshape(3,3)\n",
    "\n",
    "print(\"Original Array :\\n\",num_array1)\n",
    "print(' ')\n",
    "num_array1[[0,1]] = num_array1[[1,0]]\n",
    "print(\"Computed array : \\n\",num_array1)"
   ]
  },
  {
   "cell_type": "code",
   "execution_count": null,
   "metadata": {},
   "outputs": [],
   "source": []
  }
 ],
 "metadata": {
  "colab": {
   "collapsed_sections": [],
   "name": "NPV - Take home  - Questions-Week-1 .ipynb",
   "provenance": []
  },
  "kernelspec": {
   "display_name": "Python 3",
   "language": "python",
   "name": "python3"
  },
  "language_info": {
   "codemirror_mode": {
    "name": "ipython",
    "version": 3
   },
   "file_extension": ".py",
   "mimetype": "text/x-python",
   "name": "python",
   "nbconvert_exporter": "python",
   "pygments_lexer": "ipython3",
   "version": "3.8.5"
  }
 },
 "nbformat": 4,
 "nbformat_minor": 1
}
